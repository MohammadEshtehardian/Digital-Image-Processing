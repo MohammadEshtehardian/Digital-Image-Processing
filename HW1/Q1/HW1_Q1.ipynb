{
 "cells": [
  {
   "cell_type": "markdown",
   "id": "1979a142",
   "metadata": {},
   "source": [
    "# Question 1"
   ]
  },
  {
   "cell_type": "markdown",
   "id": "d69c3fe9",
   "metadata": {},
   "source": [
    "### Importing Libraries"
   ]
  },
  {
   "cell_type": "code",
   "execution_count": 2,
   "id": "79d3ad68",
   "metadata": {},
   "outputs": [],
   "source": [
    "import numpy as np\n",
    "import matplotlib.pyplot as plt\n",
    "import imageio as iio"
   ]
  },
  {
   "cell_type": "markdown",
   "id": "5d2b8680",
   "metadata": {},
   "source": [
    "### Reading Image"
   ]
  },
  {
   "cell_type": "code",
   "execution_count": 3,
   "id": "fb6ca86a",
   "metadata": {},
   "outputs": [
    {
     "name": "stdout",
     "output_type": "stream",
     "text": [
      "(435, 580)\n"
     ]
    }
   ],
   "source": [
    "img = iio.imread('campusdrive.png')\n",
    "print(img.shape)"
   ]
  },
  {
   "cell_type": "markdown",
   "id": "0040e930",
   "metadata": {},
   "source": [
    "### Find Number of Quantization Bits"
   ]
  },
  {
   "cell_type": "code",
   "execution_count": 4,
   "id": "9193267e",
   "metadata": {},
   "outputs": [
    {
     "data": {
      "text/plain": [
       "dtype('uint8')"
      ]
     },
     "execution_count": 4,
     "metadata": {},
     "output_type": "execute_result"
    }
   ],
   "source": [
    "img.dtype"
   ]
  },
  {
   "cell_type": "markdown",
   "id": "42f3c37b",
   "metadata": {},
   "source": [
    "### Change Number of Quantization Bits"
   ]
  },
  {
   "cell_type": "code",
   "execution_count": 4,
   "id": "c4fd1bde",
   "metadata": {},
   "outputs": [],
   "source": [
    "# a function for changing the number of quantization bits of an image\n",
    "def change_bits(img, n, m):\n",
    "    # we want to convert number of quantization bits from n to m\n",
    "    x, y = img.shape # find the shape of input image\n",
    "    new_image = np.zeros((x,y)) # create the output image with m quantization bits\n",
    "    for i in range(x):\n",
    "        for j in range(y):\n",
    "            new_value = img[i,j] / (2**n-1) * (2**m-1) # scale f(x,y) from 0 to 2**m-1\n",
    "            new_value = np.round(new_value) # round the numbers\n",
    "            new_image[i,j] = new_value\n",
    "    return np.array(new_image/(2**m-1)*255, dtype='uint8') # return output as a uint8 numpy array\n",
    "\n",
    "for m in range(1,8):\n",
    "    new_image = change_bits(img, 8, m)\n",
    "    iio.imwrite('campusdrive{}.png'.format(m), new_image)"
   ]
  },
  {
   "cell_type": "markdown",
   "id": "fdb0043f",
   "metadata": {},
   "source": [
    "### Change Number of Quantization Bits Using Mask"
   ]
  },
  {
   "cell_type": "code",
   "execution_count": 5,
   "id": "7540ecd5",
   "metadata": {},
   "outputs": [],
   "source": [
    "# a function that generate a mask for an image\n",
    "def generate_mask(img):\n",
    "    return np.random.randint(0,2,size=img.shape)\n",
    "\n",
    "# a function for changing the number of quantization bits of an masked image\n",
    "def masked_change_bits(img, n, m, arr):\n",
    "    # we want to convert number of quantization bits from n to m\n",
    "    x, y = img.shape # find the shape of input image\n",
    "    new_image = img.copy() # create the output image with m quantization bits\n",
    "    for (i, j) in arr:\n",
    "        new_value = img[i,j] / (2**n-1) * (2**m-1) # scale f(x,y) from 0 to 2**m-1\n",
    "        new_value = np.round(new_value) # round the numbers\n",
    "        new_image[i,j] = new_value\n",
    "    return np.array(new_image/(2**m-1)*255, dtype='uint8') # return output as a uint8 numpy array\n",
    "\n",
    "# create gif with above functions\n",
    "images = []\n",
    "for m in range(1,8):\n",
    "    for i in range(10):\n",
    "        mask = generate_mask(img)\n",
    "        pos = np.where(mask==1)\n",
    "        arr = []\n",
    "        for i in range(len(pos[0])):\n",
    "            arr.append((pos[0][i], pos[1][i]))\n",
    "        new_image = masked_change_bits(img, 8, m, arr)\n",
    "        images.append(new_image)\n",
    "iio.mimsave('quantized_campusdrive.gif', images)"
   ]
  },
  {
   "cell_type": "code",
   "execution_count": null,
   "id": "06808e51",
   "metadata": {},
   "outputs": [],
   "source": []
  }
 ],
 "metadata": {
  "kernelspec": {
   "display_name": "Python 3 (ipykernel)",
   "language": "python",
   "name": "python3"
  },
  "language_info": {
   "codemirror_mode": {
    "name": "ipython",
    "version": 3
   },
   "file_extension": ".py",
   "mimetype": "text/x-python",
   "name": "python",
   "nbconvert_exporter": "python",
   "pygments_lexer": "ipython3",
   "version": "3.8.8"
  }
 },
 "nbformat": 4,
 "nbformat_minor": 5
}
