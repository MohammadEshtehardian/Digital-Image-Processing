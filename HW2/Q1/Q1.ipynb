{
 "cells": [
  {
   "cell_type": "markdown",
   "id": "64874787",
   "metadata": {},
   "source": [
    "## Importing Libraries"
   ]
  },
  {
   "cell_type": "code",
   "execution_count": 1,
   "id": "ad56422f",
   "metadata": {},
   "outputs": [],
   "source": [
    "import numpy as np\n",
    "import imageio as iio\n",
    "import matplotlib.pyplot as plt"
   ]
  },
  {
   "cell_type": "markdown",
   "id": "0d89277e",
   "metadata": {},
   "source": [
    "## Method 1"
   ]
  },
  {
   "cell_type": "markdown",
   "id": "ab0c7540",
   "metadata": {},
   "source": [
    "### Fourier Transform of Image"
   ]
  },
  {
   "cell_type": "code",
   "execution_count": 12,
   "id": "d0cb0317",
   "metadata": {},
   "outputs": [],
   "source": [
    "img = iio.imread('q1.jpg')\n",
    "\n",
    "# calculate rgb\n",
    "r = img[:,:,0]\n",
    "g = img[:,:,1]\n",
    "b = img[:,:,2]\n",
    "\n",
    "# calculate fourier transform of channels\n",
    "fr = np.fft.fftshift(np.fft.fft2(r))\n",
    "fg = np.fft.fftshift(np.fft.fft2(g))\n",
    "fb = np.fft.fftshift(np.fft.fft2(b))\n",
    "\n",
    "# calculate fourier transform of image\n",
    "fimg = np.zeros((img.shape[0], img.shape[1], img.shape[2]), dtype='complex')\n",
    "fimg[:,:,0] = fr.copy()\n",
    "fimg[:,:,1] = fg.copy()\n",
    "fimg[:,:,2] = fb.copy()\n",
    "\n",
    "iio.imwrite('q1_res01.jpg', np.array(20*np.log10(np.abs(fimg)), dtype='uint8'))"
   ]
  },
  {
   "cell_type": "markdown",
   "id": "99c31214",
   "metadata": {},
   "source": [
    "### Build Highpass Filter"
   ]
  },
  {
   "cell_type": "code",
   "execution_count": 13,
   "id": "71ffbd49",
   "metadata": {},
   "outputs": [],
   "source": [
    "filt = np.zeros((img.shape[0], img.shape[1], img.shape[2]))\n",
    "sigma = 70\n",
    "for i in range(img.shape[0]):\n",
    "    for j in range(img.shape[1]):\n",
    "        for k in range(img.shape[2]):\n",
    "            filt[i,j,k] = np.exp(-((i-0.5*img.shape[0])**2+(j-0.5*img.shape[1])**2)/sigma**2)\n",
    "            \n",
    "filt = 1-filt/np.max(filt)\n",
    "iio.imwrite('q1_res02.jpg', np.array(filt*255, dtype='uint8'))"
   ]
  },
  {
   "cell_type": "markdown",
   "id": "e44c7fd8",
   "metadata": {},
   "source": [
    "### Filtering Image"
   ]
  },
  {
   "cell_type": "code",
   "execution_count": 16,
   "id": "1ce7228f",
   "metadata": {},
   "outputs": [],
   "source": [
    "k = 0.8\n",
    "fnewimg = (1 + k * filt) * fimg\n",
    "iio.imwrite('q1_res03.jpg', np.array(20*np.log10(np.abs(fnewimg)), dtype='uint8'))"
   ]
  },
  {
   "cell_type": "code",
   "execution_count": 20,
   "id": "5df93d15",
   "metadata": {},
   "outputs": [],
   "source": [
    "newr = np.fft.ifft2(np.fft.ifftshift(fnewimg[:,:,0]))\n",
    "newg = np.fft.ifft2(np.fft.ifftshift(fnewimg[:,:,1]))\n",
    "newb = np.fft.ifft2(np.fft.ifftshift(fnewimg[:,:,2]))\n",
    "new_img = np.zeros((img.shape[0], img.shape[1], img.shape[2]), dtype='complex')\n",
    "new_img[:,:,0] = newr.copy()\n",
    "new_img[:,:,1] = newg.copy()\n",
    "new_img[:,:,2] = newb.copy()\n",
    "\n",
    "new_img = 255*np.abs((new_img-np.min(new_img))/(np.max(new_img)-np.min(new_img)))\n",
    "\n",
    "iio.imwrite('q1_res04.jpg', np.array(new_img, dtype='uint8'))"
   ]
  },
  {
   "cell_type": "markdown",
   "id": "b61cfe72",
   "metadata": {},
   "source": [
    "## Method 2"
   ]
  },
  {
   "cell_type": "markdown",
   "id": "0078bda0",
   "metadata": {},
   "source": [
    "### Unsharp Mask"
   ]
  },
  {
   "cell_type": "code",
   "execution_count": 6,
   "id": "2c435db9",
   "metadata": {},
   "outputs": [],
   "source": [
    "img = iio.imread('q1.jpg')\n",
    "\n",
    "# calculate rgb\n",
    "r = img[:,:,0]\n",
    "g = img[:,:,1]\n",
    "b = img[:,:,2]\n",
    "\n",
    "# calculate fourier transform of channels\n",
    "fr = np.fft.fftshift(np.fft.fft2(r))\n",
    "fg = np.fft.fftshift(np.fft.fft2(g))\n",
    "fb = np.fft.fftshift(np.fft.fft2(b))\n",
    "\n",
    "fnewr = np.zeros((img.shape[0], img.shape[1]), dtype='complex')\n",
    "fnewg = np.zeros((img.shape[0], img.shape[1]), dtype='complex')\n",
    "fnewb = np.zeros((img.shape[0], img.shape[1]), dtype='complex')\n",
    "\n",
    "for i in range(img.shape[0]):\n",
    "    for j in range(img.shape[1]):\n",
    "        fnewr[i,j] = 4*np.pi**2*((i-img.shape[0]//2)**2+(j-img.shape[1]//2)**2)*fr[i,j]\n",
    "        fnewg[i,j] = 4*np.pi**2*((i-img.shape[0]//2)**2+(j-img.shape[1]//2)**2)*fg[i,j]\n",
    "        fnewb[i,j] = 4*np.pi**2*((i-img.shape[0]//2)**2+(j-img.shape[1]//2)**2)*fb[i,j]\n",
    "    \n",
    "\n",
    "fnew = np.zeros((img.shape[0], img.shape[1], img.shape[2]), dtype='complex')\n",
    "fnew[:,:,0] = fnewr.copy()\n",
    "fnew[:,:,1] = fnewg.copy()\n",
    "fnew[:,:,2] = fnewb.copy()\n",
    "        \n",
    "iio.imwrite('q1_res05.jpg', np.array(20*np.log10(np.abs(fnew)+1e-3), dtype='uint8'))\n",
    "\n",
    "mask = np.zeros((img.shape[0], img.shape[1], img.shape[2]), dtype='complex')\n",
    "mask[:,:,0] = np.fft.ifft2(np.fft.ifftshift(fnewr)).copy()\n",
    "mask[:,:,1] = np.fft.ifft2(np.fft.ifftshift(fnewg)).copy()\n",
    "mask[:,:,2] = np.fft.ifft2(np.fft.ifftshift(fnewb)).copy()\n",
    "mask_img = np.uint8(np.abs((mask-np.min(mask))/(np.max(mask)-np.min(mask))*255))\n",
    "iio.imwrite('q1_res06.jpg', mask_img)"
   ]
  },
  {
   "cell_type": "markdown",
   "id": "bc736666",
   "metadata": {},
   "source": [
    "### Create Final Image"
   ]
  },
  {
   "cell_type": "code",
   "execution_count": 7,
   "id": "429fff2c",
   "metadata": {},
   "outputs": [],
   "source": [
    "k = 1e-7\n",
    "new_img = img+k*mask\n",
    "new_img = 255*np.abs((new_img-np.min(new_img))/(np.max(new_img)-np.min(new_img)))\n",
    "iio.imwrite('q1_res07.jpg', np.array(new_img, dtype='uint8'))"
   ]
  },
  {
   "cell_type": "code",
   "execution_count": null,
   "id": "62310321",
   "metadata": {},
   "outputs": [],
   "source": []
  }
 ],
 "metadata": {
  "kernelspec": {
   "display_name": "Python 3 (ipykernel)",
   "language": "python",
   "name": "python3"
  },
  "language_info": {
   "codemirror_mode": {
    "name": "ipython",
    "version": 3
   },
   "file_extension": ".py",
   "mimetype": "text/x-python",
   "name": "python",
   "nbconvert_exporter": "python",
   "pygments_lexer": "ipython3",
   "version": "3.8.8"
  }
 },
 "nbformat": 4,
 "nbformat_minor": 5
}
