{
 "cells": [
  {
   "cell_type": "markdown",
   "id": "494a2394",
   "metadata": {},
   "source": [
    "## Import Libraries"
   ]
  },
  {
   "cell_type": "code",
   "execution_count": 1,
   "id": "9510c995",
   "metadata": {},
   "outputs": [],
   "source": [
    "import numpy as np\n",
    "import imageio as iio\n",
    "import matplotlib.pyplot as plt"
   ]
  },
  {
   "cell_type": "markdown",
   "id": "832c886a",
   "metadata": {},
   "source": [
    "## Guassian Stack"
   ]
  },
  {
   "cell_type": "code",
   "execution_count": 2,
   "id": "e1ad6729",
   "metadata": {},
   "outputs": [],
   "source": [
    "def gaussian_filter(sigma, img):\n",
    "    filt = np.zeros((img.shape[0], img.shape[1], img.shape[2]))\n",
    "    for i in range(img.shape[2]):\n",
    "        for j in range(img.shape[1]):\n",
    "            for k in range(img.shape[0]):\n",
    "                filt[k,j,i] = np.exp(-((k-img.shape[0]//2)**2+(j-img.shape[1]//2)**2)/sigma**2)\n",
    "        filt[:,:,i] = filt[:,:,i]/np.max(filt[:,:,i])\n",
    "    return filt\n",
    "                \n",
    "\n",
    "def gaussian_stack(img, n, a):\n",
    "    '''\n",
    "    img is the input image,\n",
    "    n is the number of outputs,\n",
    "    a can change the speed of bluring\n",
    "    '''\n",
    "    G = [] # for save images\n",
    "    \n",
    "    r = img[:,:,0]\n",
    "    g = img[:,:,1]\n",
    "    b = img[:,:,2]\n",
    "    \n",
    "    fr = np.fft.fftshift(np.fft.fft2(r)) # fourier transform of red\n",
    "    fg = np.fft.fftshift(np.fft.fft2(g)) # fourier transform of green\n",
    "    fb = np.fft.fftshift(np.fft.fft2(b)) # fourier transform of blue\n",
    "    \n",
    "    f = np.dstack((fr,fg,fb))\n",
    "    \n",
    "    for i in range(n):\n",
    "        if i == n-1:\n",
    "            G.append(img.copy())\n",
    "        else:\n",
    "            sigma = (i+1) * a\n",
    "            filt = gaussian_filter(sigma, f)\n",
    "            new_fimg = f * filt\n",
    "\n",
    "            newfr = new_fimg[:,:,0]\n",
    "            newfg = new_fimg[:,:,1]\n",
    "            newfb = new_fimg[:,:,2]\n",
    "\n",
    "            newr = np.fft.ifft2(np.fft.ifftshift(newfr))\n",
    "            newg = np.fft.ifft2(np.fft.ifftshift(newfg))\n",
    "            newb = np.fft.ifft2(np.fft.ifftshift(newfb))\n",
    "\n",
    "            newimg = np.abs(np.dstack((newr, newg, newb)))\n",
    "\n",
    "            G.append(newimg)\n",
    "        \n",
    "    return G"
   ]
  },
  {
   "cell_type": "markdown",
   "id": "3300b696",
   "metadata": {},
   "source": [
    "## Laplacian Stack"
   ]
  },
  {
   "cell_type": "code",
   "execution_count": 3,
   "id": "8eb938d9",
   "metadata": {},
   "outputs": [],
   "source": [
    "def laplacian_stack(img, n, a):\n",
    "    '''\n",
    "    inputs are same as inputs of gaussian stack function\n",
    "    '''\n",
    "    G = gaussian_stack(img, n, a)\n",
    "    L = []\n",
    "    L.append(G[0])\n",
    "    for i in range(n-1):\n",
    "        L.append(G[i+1]-G[i])\n",
    "        \n",
    "    return L"
   ]
  },
  {
   "cell_type": "markdown",
   "id": "22e478c8",
   "metadata": {},
   "source": [
    "## Blending"
   ]
  },
  {
   "cell_type": "code",
   "execution_count": 15,
   "id": "d832cde0",
   "metadata": {},
   "outputs": [],
   "source": [
    "def blend(img1, img2, mask, n, a):\n",
    "    G_mask = gaussian_stack(mask, n, a)\n",
    "    L1 = laplacian_stack(img1, n, a)\n",
    "    L2 = laplacian_stack(img2, n, a)\n",
    "    out = np.zeros(img1.shape)\n",
    "    for i in range(n):\n",
    "        out = out+L1[i]*G_mask[i]/np.max(G_mask)+L2[i]*(1-G_mask[i]/np.max(G_mask[i]))\n",
    "        \n",
    "    return np.array(255*out/np.max(out), dtype='uint8')\n",
    "\n",
    "\n",
    "img1 = iio.imread('fig1.jpg')\n",
    "img2 = iio.imread('fig2.jpg')\n",
    "mask = iio.imread('fig3.jpg')\n",
    "\n",
    "\n",
    "img = blend(img1, img2, mask, 5, 10)\n",
    "iio.imwrite('OstadAsadi_Ronaldo.jpg', img)\n",
    "\n",
    "img = blend(img2, img1, mask, 5, 10)\n",
    "iio.imwrite('Ronaldo_OstadAsadi.jpg', img)\n"
   ]
  },
  {
   "cell_type": "code",
   "execution_count": null,
   "id": "d2aac95f",
   "metadata": {},
   "outputs": [],
   "source": []
  }
 ],
 "metadata": {
  "kernelspec": {
   "display_name": "Python 3 (ipykernel)",
   "language": "python",
   "name": "python3"
  },
  "language_info": {
   "codemirror_mode": {
    "name": "ipython",
    "version": 3
   },
   "file_extension": ".py",
   "mimetype": "text/x-python",
   "name": "python",
   "nbconvert_exporter": "python",
   "pygments_lexer": "ipython3",
   "version": "3.8.8"
  }
 },
 "nbformat": 4,
 "nbformat_minor": 5
}
