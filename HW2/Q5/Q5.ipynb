{
 "cells": [
  {
   "cell_type": "markdown",
   "id": "7c650cdf",
   "metadata": {},
   "source": [
    "# Import Libraries"
   ]
  },
  {
   "cell_type": "code",
   "execution_count": 5,
   "id": "d6562665",
   "metadata": {},
   "outputs": [],
   "source": [
    "import numpy as np\n",
    "import matplotlib.pyplot as plt\n",
    "import imageio as iio\n",
    "from scipy import ndimage\n",
    "import cv2"
   ]
  },
  {
   "cell_type": "markdown",
   "id": "9b0aa415",
   "metadata": {},
   "source": [
    "# Filtering"
   ]
  },
  {
   "cell_type": "code",
   "execution_count": 6,
   "id": "77501521",
   "metadata": {},
   "outputs": [],
   "source": [
    "img = iio.imread('q5.png')\n",
    "\n",
    "def filt(img, kernel):\n",
    "    img = img.copy()\n",
    "    conv_img = ndimage.convolve(img, kernel, mode='constant')\n",
    "    return np.uint8(conv_img)"
   ]
  },
  {
   "cell_type": "markdown",
   "id": "a02b936f",
   "metadata": {},
   "source": [
    "### Sobel Filter"
   ]
  },
  {
   "cell_type": "code",
   "execution_count": 6,
   "id": "59d10c65",
   "metadata": {},
   "outputs": [],
   "source": [
    "kernel_x = np.array([[-1, 0, 1],\n",
    "                     [-2, 0, 2],\n",
    "                     [-1, 0, 1]])\n",
    "\n",
    "kernel_y = np.array([[1, 2, 1],\n",
    "                     [0, 0, 0],\n",
    "                     [-1, -2, -1]])\n",
    "\n",
    "sobel_x = filt(img, kernel_x)\n",
    "sobel_y = filt(img, kernel_y)\n",
    "sobel = np.sqrt(sobel_x**2+sobel_y**2)\n",
    "\n",
    "iio.imwrite('q5_res01.png', np.uint8(sobel))"
   ]
  },
  {
   "cell_type": "markdown",
   "id": "5b67d6b7",
   "metadata": {},
   "source": [
    "### Gaussian Filter"
   ]
  },
  {
   "cell_type": "code",
   "execution_count": 23,
   "id": "af562cd3",
   "metadata": {},
   "outputs": [],
   "source": [
    "def gaussian_kernel(n, sigma):\n",
    "    kernel = np.zeros((n,n))\n",
    "    for i in range(n):\n",
    "        for j in range(n):\n",
    "            kernel[i,j] = 1/(2*np.pi*sigma**2) * np.exp(-((i-n//2)**2+(j-n//2)**2)/(2*sigma**2))\n",
    "    return kernel\n",
    "\n",
    "gaussian = np.uint8(filt(img, gaussian_kernel(3,1)))\n",
    "iio.imwrite('q5_res02.png', gaussian)"
   ]
  },
  {
   "cell_type": "markdown",
   "id": "58ccb4f7",
   "metadata": {},
   "source": [
    "### Laplacian Filter"
   ]
  },
  {
   "cell_type": "code",
   "execution_count": 25,
   "id": "e6a71a49",
   "metadata": {},
   "outputs": [],
   "source": [
    "kernel = np.array([[1, 1, 1],\n",
    "                   [1, -8, 1],\n",
    "                   [1, 1, 1]])\n",
    "laplacian = filt(img, kernel)\n",
    "iio.imwrite('q5_res03.png', laplacian)"
   ]
  },
  {
   "cell_type": "markdown",
   "id": "bc084d98",
   "metadata": {},
   "source": [
    "# Filtering in Frequency Domain"
   ]
  },
  {
   "cell_type": "code",
   "execution_count": 3,
   "id": "1a5f0a1d",
   "metadata": {},
   "outputs": [],
   "source": [
    "freq_img = np.fft.fftshift(np.fft.fft2(img))\n",
    "iio.imwrite('q5_res04.png', np.uint8(20*np.log10(np.abs(freq_img))))"
   ]
  },
  {
   "cell_type": "markdown",
   "id": "7d330160",
   "metadata": {},
   "source": [
    "### Gaussian Filter"
   ]
  },
  {
   "cell_type": "code",
   "execution_count": 57,
   "id": "3ef6bf05",
   "metadata": {},
   "outputs": [],
   "source": [
    "def gaussian_filter(img, sigma):\n",
    "    x, y = img.shape\n",
    "    filt = np.zeros(img.shape)\n",
    "    i = np.linspace(0,x,x)\n",
    "    j = np.linspace(0,y,y)\n",
    "    filt1 = np.exp(-((i-x//2)**2)/(2*sigma**2))\n",
    "    filt2 = np.exp(-((j-y//2)**2)/(2*sigma**2))\n",
    "    filt = np.outer(filt1, filt2)\n",
    "    return filt/np.max(filt)\n",
    "\n",
    "\n",
    "freq_lp_img = freq_img*gaussian_filter(freq_img, 100)\n",
    "iio.imwrite('q5_res05.png', np.uint8(20*np.log10(np.abs(freq_lp_img)+1e-3)))\n",
    "\n",
    "freq_hp_img = freq_img*(1-gaussian_filter(freq_img, 100))\n",
    "iio.imwrite('q5_res06.png', np.uint8(20*np.log10(np.abs(freq_hp_img)+1e-3)))"
   ]
  },
  {
   "cell_type": "code",
   "execution_count": 58,
   "id": "1eef9bda",
   "metadata": {},
   "outputs": [],
   "source": [
    "lp_img = np.abs(np.fft.ifft2(np.fft.ifftshift(freq_lp_img)))\n",
    "hp_img = np.abs(np.fft.ifft2(np.fft.ifftshift(freq_hp_img)))\n",
    "\n",
    "lp_img = (lp_img-np.min(lp_img))/(np.max(lp_img)-np.min(lp_img))*255\n",
    "hp_img = (hp_img-np.min(hp_img))/(np.max(hp_img)-np.min(hp_img))*255\n",
    "\n",
    "iio.imwrite('q5_res07.png', np.uint8(lp_img))\n",
    "iio.imwrite('q5_res08.png', np.uint8(hp_img))"
   ]
  },
  {
   "cell_type": "markdown",
   "id": "670932aa",
   "metadata": {},
   "source": [
    "### Squared Filter"
   ]
  },
  {
   "cell_type": "code",
   "execution_count": 47,
   "id": "81882070",
   "metadata": {},
   "outputs": [],
   "source": [
    "def squared_filter(img, cutoff):\n",
    "    x, y = img.shape\n",
    "    filt = np.zeros(img.shape)\n",
    "    filt[x//2-cutoff:x//2+cutoff, y//2-cutoff:y//2+cutoff] = 1\n",
    "    return filt/np.max(filt)\n",
    "\n",
    "\n",
    "freq_lp_img = freq_img*squared_filter(freq_img, 50)\n",
    "iio.imwrite('q5_res09.png', np.uint8(20*np.log10(np.abs(freq_lp_img)+1e-3)))\n",
    "\n",
    "freq_hp_img = freq_img*(1-squared_filter(freq_img, 50))\n",
    "iio.imwrite('q5_res10.png', np.uint8(20*np.log10(np.abs(freq_hp_img)+1e-3)))"
   ]
  },
  {
   "cell_type": "code",
   "execution_count": 48,
   "id": "520c218e",
   "metadata": {},
   "outputs": [],
   "source": [
    "lp_img = np.abs(np.fft.ifft2(np.fft.ifftshift(freq_lp_img)))\n",
    "hp_img = np.abs(np.fft.ifft2(np.fft.ifftshift(freq_hp_img)))\n",
    "\n",
    "lp_img = (lp_img-np.min(lp_img))/(np.max(lp_img)-np.min(lp_img))*255\n",
    "hp_img = (hp_img-np.min(hp_img))/(np.max(hp_img)-np.min(hp_img))*255\n",
    "\n",
    "iio.imwrite('q5_res11.png', np.uint8(lp_img))\n",
    "iio.imwrite('q5_res12.png', np.uint8(hp_img))"
   ]
  },
  {
   "cell_type": "markdown",
   "id": "a03c0d09",
   "metadata": {},
   "source": [
    "### Zoom in & Zoom out"
   ]
  },
  {
   "cell_type": "code",
   "execution_count": 7,
   "id": "604dfe83",
   "metadata": {},
   "outputs": [],
   "source": [
    "# zoom in\n",
    "x, y = img.shape\n",
    "dim = (4*x, 4*y)\n",
    "zoom_in = cv2.resize(img, dim, interpolation = cv2.INTER_AREA)\n",
    "iio.imwrite('q5_res13.png', zoom_in)\n",
    "\n",
    "# zoom out\n",
    "x, y = img.shape\n",
    "dim = (x//4, y//4)\n",
    "zoom_out = cv2.resize(img, dim, interpolation = cv2.INTER_AREA)\n",
    "iio.imwrite('q5_res14.png', zoom_out)"
   ]
  },
  {
   "cell_type": "code",
   "execution_count": null,
   "id": "f28a22cb",
   "metadata": {},
   "outputs": [],
   "source": []
  }
 ],
 "metadata": {
  "kernelspec": {
   "display_name": "Python 3 (ipykernel)",
   "language": "python",
   "name": "python3"
  },
  "language_info": {
   "codemirror_mode": {
    "name": "ipython",
    "version": 3
   },
   "file_extension": ".py",
   "mimetype": "text/x-python",
   "name": "python",
   "nbconvert_exporter": "python",
   "pygments_lexer": "ipython3",
   "version": "3.8.8"
  }
 },
 "nbformat": 4,
 "nbformat_minor": 5
}
