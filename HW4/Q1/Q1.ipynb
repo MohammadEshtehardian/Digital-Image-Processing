{
 "cells": [
  {
   "cell_type": "markdown",
   "id": "95a11ae4",
   "metadata": {},
   "source": [
    "## Importing Libraries"
   ]
  },
  {
   "cell_type": "code",
   "execution_count": 1,
   "id": "d1c6f7d9",
   "metadata": {},
   "outputs": [],
   "source": [
    "import numpy as np\n",
    "import imageio as iio\n",
    "import matplotlib.pyplot as plt\n",
    "from scipy import ndimage"
   ]
  },
  {
   "cell_type": "markdown",
   "id": "e7265013",
   "metadata": {},
   "source": [
    "## Defining Function"
   ]
  },
  {
   "cell_type": "code",
   "execution_count": 2,
   "id": "ad3fd420",
   "metadata": {},
   "outputs": [],
   "source": [
    "def rot_filt(img, w, m):\n",
    "    '''\n",
    "    A function for applying rotating mask filter on an grayscale image.\n",
    "    '''\n",
    "    x, y = img.shape # size of image\n",
    "    out_img = img.copy()\n",
    "    for i in range(x-w):\n",
    "        for j in range(y-w):\n",
    "            window = img[i:i+w,j:j+w]\n",
    "            var = 1e10\n",
    "            mean = 0\n",
    "            for k in range(w-m):\n",
    "                for l in range(w-m):\n",
    "                    var1 = np.var(window[k:k+m,l:l+m])\n",
    "                    if var1 < var:\n",
    "                        var = var1\n",
    "                        mean = np.mean(window[k:k+m,l:l+m])\n",
    "            out_img[i,j] = mean\n",
    "    return out_img"
   ]
  },
  {
   "cell_type": "markdown",
   "id": "437a07d2",
   "metadata": {},
   "source": [
    "## Applying Filter"
   ]
  },
  {
   "cell_type": "code",
   "execution_count": 4,
   "id": "7c64bb70",
   "metadata": {},
   "outputs": [],
   "source": [
    "img = iio.imread('P1.png')\n",
    "img_noisy = iio.imread('P1_noisy.png')\n",
    "\n",
    "out = rot_filt(img, 5, 3)\n",
    "out_noisy = rot_filt(img_noisy, 5, 3)\n",
    "\n",
    "iio.imwrite('Q1_1.png', out)\n",
    "iio.imwrite('Q1_2.png', out_noisy)"
   ]
  },
  {
   "cell_type": "markdown",
   "id": "baf9a435",
   "metadata": {},
   "source": [
    "## Applying Mean Filter"
   ]
  },
  {
   "cell_type": "code",
   "execution_count": 15,
   "id": "101acf99",
   "metadata": {},
   "outputs": [],
   "source": [
    "out_mean = scipy.ndimage.uniform_filter(img, size=5, mode='constant')\n",
    "out_mean_noisy = scipy.ndimage.uniform_filter(img_noisy, size=5, mode='constant')\n",
    "\n",
    "iio.imwrite('Q1_3.png', out_mean)\n",
    "iio.imwrite('Q1_4.png', out_mean_noisy)"
   ]
  }
 ],
 "metadata": {
  "kernelspec": {
   "display_name": "Python 3 (ipykernel)",
   "language": "python",
   "name": "python3"
  },
  "language_info": {
   "codemirror_mode": {
    "name": "ipython",
    "version": 3
   },
   "file_extension": ".py",
   "mimetype": "text/x-python",
   "name": "python",
   "nbconvert_exporter": "python",
   "pygments_lexer": "ipython3",
   "version": "3.8.8"
  }
 },
 "nbformat": 4,
 "nbformat_minor": 5
}
